{
 "metadata": {
  "language_info": {
   "codemirror_mode": {
    "name": "ipython",
    "version": 3
   },
   "file_extension": ".py",
   "mimetype": "text/x-python",
   "name": "python",
   "nbconvert_exporter": "python",
   "pygments_lexer": "ipython3",
   "version": "3.7.9"
  },
  "orig_nbformat": 2,
  "kernelspec": {
   "name": "python379jvsc74a57bd00ee8c060aa0b5f465284cad79e20cb7a3f2b25d49fed40865747181d10e95a1b",
   "display_name": "Python 3.7.9 64-bit ('mm': conda)"
  }
 },
 "nbformat": 4,
 "nbformat_minor": 2,
 "cells": [
  {
   "cell_type": "code",
   "execution_count": 1,
   "metadata": {},
   "outputs": [],
   "source": [
    "import json\n",
    "merged_path = 'hasty_merged.json'"
   ]
  },
  {
   "cell_type": "code",
   "execution_count": 2,
   "metadata": {},
   "outputs": [],
   "source": [
    "with open(merged_path) as json_file:\n",
    "    json1 = json.load(json_file)     "
   ]
  },
  {
   "cell_type": "code",
   "execution_count": 3,
   "metadata": {},
   "outputs": [],
   "source": [
    "\n",
    "last_image_id = json1['images'][-1]['id']\n",
    "last_ann_id = json1['annotations'][-1]['id'] + 1\n"
   ]
  },
  {
   "cell_type": "code",
   "execution_count": 4,
   "metadata": {},
   "outputs": [
    {
     "output_type": "execute_result",
     "data": {
      "text/plain": [
       "[{'id': 1, 'name': 'big_house', 'supercategory': 'object'},\n",
       " {'id': 2, 'name': 'house', 'supercategory': 'object'},\n",
       " {'id': 3, 'name': 'container', 'supercategory': 'object'},\n",
       " {'id': 4, 'name': 'big_building', 'supercategory': 'object'},\n",
       " {'id': 5, 'name': 'road', 'supercategory': 'object'},\n",
       " {'id': 6, 'name': 'building', 'supercategory': 'object'},\n",
       " {'id': 7, 'name': 'house_cluster', 'supercategory': 'object'},\n",
       " {'id': 8, 'name': 'building_cluster', 'supercategory': 'object'},\n",
       " {'id': 9, 'name': 'etc', 'supercategory': 'object'},\n",
       " {'id': 10, 'name': 'empty_soil', 'supercategory': 'object'},\n",
       " {'id': 11, 'name': 'empty_paved', 'supercategory': 'object'},\n",
       " {'id': 12, 'name': 'empty_etc', 'supercategory': 'object'}]"
      ]
     },
     "metadata": {},
     "execution_count": 4
    }
   ],
   "source": [
    "cat_list1 = json1['categories']\n",
    "cat_list1"
   ]
  },
  {
   "cell_type": "code",
   "execution_count": 5,
   "metadata": {
    "tags": []
   },
   "outputs": [],
   "source": [
    "anns = json1['annotations']\n",
    "new_ann = []\n",
    "for ann in anns:\n",
    "    cat_id = ann['category_id']\n",
    "    if cat_id in range(8) and cat_id != 5:\n",
    "        if cat_id in [7, 8]:\n",
    "            ann['iscrowd'] = 1            \n",
    "            ann['category_id'] = 6        \n",
    "        elif cat_id in [1, 2, 4]:            \n",
    "            ann['category_id'] = 6        \n",
    "        if ann['category_id'] == 6:\n",
    "            new_ann.append(ann)        \n"
   ]
  },
  {
   "cell_type": "code",
   "execution_count": 6,
   "metadata": {},
   "outputs": [],
   "source": [
    "json1['annotations'] = new_ann"
   ]
  },
  {
   "cell_type": "code",
   "execution_count": 7,
   "metadata": {},
   "outputs": [],
   "source": [
    "with open('merged_onehot.json', 'w') as outfile:\n",
    "    json.dump(json1, outfile)"
   ]
  },
  {
   "cell_type": "code",
   "execution_count": 8,
   "metadata": {},
   "outputs": [
    {
     "output_type": "execute_result",
     "data": {
      "text/plain": [
       "13135"
      ]
     },
     "metadata": {},
     "execution_count": 8
    }
   ],
   "source": [
    "len(json1['annotations'])"
   ]
  },
  {
   "cell_type": "code",
   "execution_count": null,
   "metadata": {},
   "outputs": [],
   "source": []
  }
 ]
}