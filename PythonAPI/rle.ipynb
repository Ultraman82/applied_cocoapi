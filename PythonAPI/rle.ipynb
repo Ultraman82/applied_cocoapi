{
 "metadata": {
  "language_info": {
   "codemirror_mode": {
    "name": "ipython",
    "version": 3
   },
   "file_extension": ".py",
   "mimetype": "text/x-python",
   "name": "python",
   "nbconvert_exporter": "python",
   "pygments_lexer": "ipython3",
   "version": "3.8.3-final"
  },
  "orig_nbformat": 2,
  "kernelspec": {
   "name": "python3",
   "display_name": "Python 3",
   "language": "python"
  }
 },
 "nbformat": 4,
 "nbformat_minor": 2,
 "cells": [
  {
   "cell_type": "code",
   "execution_count": 7,
   "metadata": {},
   "outputs": [],
   "source": [
    "import json\n",
    "from pycocotools.mask import *\n",
    "json1_path = '../annotations/test1.json'"
   ]
  },
  {
   "cell_type": "code",
   "execution_count": 8,
   "metadata": {},
   "outputs": [],
   "source": [
    "with open(json1_path) as json_file:\n",
    "    json1 = json.load(json_file)     "
   ]
  },
  {
   "cell_type": "code",
   "execution_count": 9,
   "metadata": {},
   "outputs": [
    {
     "output_type": "execute_result",
     "data": {
      "text/plain": [
       "dict_keys(['info', 'licenses', 'categories', 'images', 'annotations'])"
      ]
     },
     "metadata": {},
     "execution_count": 9
    }
   ],
   "source": [
    "last_image_id = json1['images'][-1]['id']\n",
    "json1.keys()"
   ]
  },
  {
   "cell_type": "code",
   "execution_count": 10,
   "metadata": {},
   "outputs": [
    {
     "output_type": "execute_result",
     "data": {
      "text/plain": [
       "[{'id': 1, 'name': 'big_house', 'supercategory': 'object'},\n",
       " {'id': 2, 'name': 'house', 'supercategory': 'object'},\n",
       " {'id': 3, 'name': 'containter', 'supercategory': 'object'},\n",
       " {'id': 4, 'name': 'big_building', 'supercategory': 'object'},\n",
       " {'id': 5, 'name': 'road', 'supercategory': 'object'},\n",
       " {'id': 6, 'name': 'building', 'supercategory': 'object'},\n",
       " {'id': 7, 'name': 'house_cluster', 'supercategory': 'object'},\n",
       " {'id': 8, 'name': 'building_cluster', 'supercategory': 'object'},\n",
       " {'id': 9, 'name': 'etc', 'supercategory': 'object'},\n",
       " {'id': 10, 'name': 'empty_soil', 'supercategory': 'object'},\n",
       " {'id': 11, 'name': 'empty_paved', 'supercategory': 'object'},\n",
       " {'id': 12, 'name': 'empty_etc', 'supercategory': 'object'}]"
      ]
     },
     "metadata": {},
     "execution_count": 10
    }
   ],
   "source": [
    "cat_list1 = json1['categories']\n",
    "cat_list1"
   ]
  },
  {
   "cell_type": "code",
   "execution_count": 11,
   "metadata": {},
   "outputs": [
    {
     "output_type": "execute_result",
     "data": {
      "text/plain": [
       "{'big_house': 1,\n",
       " 'house': 2,\n",
       " 'containter': 3,\n",
       " 'big_building': 4,\n",
       " 'road': 5,\n",
       " 'building': 6,\n",
       " 'house_cluster': 7,\n",
       " 'building_cluster': 8,\n",
       " 'etc': 9,\n",
       " 'empty_soil': 10,\n",
       " 'empty_paved': 11,\n",
       " 'empty_etc': 12}"
      ]
     },
     "metadata": {},
     "execution_count": 11
    }
   ],
   "source": [
    "clssCnv = {}\n",
    "for cat in cat_list1:\n",
    "    clssCnv[cat['name']] = cat['id']\n",
    "clssCnv"
   ]
  },
  {
   "cell_type": "code",
   "execution_count": 20,
   "metadata": {
    "tags": []
   },
   "outputs": [
    {
     "output_type": "stream",
     "name": "stdout",
     "text": [
      "{'id': 0, 'image_id': 42, 'category_id': 6, 'segmentation': {'size': [995, 1442], 'counts': 'kl[`01Po05J3K6K5L3J6J7K4M4I6O101O10N1001O10O02N1O00000001O001O00001O0001O1O010O2N00011NO2O0001USO\\\\NVl0d1dSOdNYl0\\\\1dSOhN[l0Q2O10O10O0001O000010O01O0001O01N100000001N2O0000001O0O1O1O2O0O2O0O1O1D=I6J6H9K4J7J5M3O2K5Jakdh0'}, 'area': 5069, 'bbox': [539, 127, 91, 94], 'iscrowd': 0}\nkl[`01Po05J3K6K5L3J6J7K4M4I6O101O10N1001O10O02N1O00000001O001O00001O0001O1O010O2N00011NO2O0001USO\\NVl0d1dSOdNYl0\\1dSOhN[l0Q2O10O10O0001O000010O01O0001O01N100000001N2O0000001O0O1O1O2O0O2O0O1O1D=I6J6H9K4J7J5M3O2K5Jakdh0\n"
     ]
    },
    {
     "output_type": "error",
     "ename": "AttributeError",
     "evalue": "'str' object has no attribute 'shape'",
     "traceback": [
      "\u001b[0;31m---------------------------------------------------------------------------\u001b[0m",
      "\u001b[0;31mAttributeError\u001b[0m                            Traceback (most recent call last)",
      "\u001b[0;32m<ipython-input-20-ef64f0b2150d>\u001b[0m in \u001b[0;36m<module>\u001b[0;34m\u001b[0m\n\u001b[1;32m      3\u001b[0m \u001b[0mprint\u001b[0m\u001b[0;34m(\u001b[0m\u001b[0mjson1_ann\u001b[0m\u001b[0;34m[\u001b[0m\u001b[0;36m0\u001b[0m\u001b[0;34m]\u001b[0m\u001b[0;34m)\u001b[0m\u001b[0;34m\u001b[0m\u001b[0;34m\u001b[0m\u001b[0m\n\u001b[1;32m      4\u001b[0m \u001b[0mprint\u001b[0m\u001b[0;34m(\u001b[0m\u001b[0mmask\u001b[0m\u001b[0;34m)\u001b[0m\u001b[0;34m\u001b[0m\u001b[0;34m\u001b[0m\u001b[0m\n\u001b[0;32m----> 5\u001b[0;31m \u001b[0mprint\u001b[0m\u001b[0;34m(\u001b[0m\u001b[0mencode\u001b[0m\u001b[0;34m(\u001b[0m\u001b[0mmask\u001b[0m\u001b[0;34m)\u001b[0m\u001b[0;34m)\u001b[0m\u001b[0;34m\u001b[0m\u001b[0;34m\u001b[0m\u001b[0m\n\u001b[0m\u001b[1;32m      6\u001b[0m \u001b[0;34m\u001b[0m\u001b[0m\n\u001b[1;32m      7\u001b[0m \u001b[0;31m# json2['annotations'] = new_ann\u001b[0m\u001b[0;34m\u001b[0m\u001b[0;34m\u001b[0m\u001b[0;34m\u001b[0m\u001b[0m\n",
      "\u001b[0;32m~/cocoapi/PythonAPI/pycocotools/mask.py\u001b[0m in \u001b[0;36mencode\u001b[0;34m(bimask)\u001b[0m\n\u001b[1;32m     79\u001b[0m \u001b[0;34m\u001b[0m\u001b[0m\n\u001b[1;32m     80\u001b[0m \u001b[0;32mdef\u001b[0m \u001b[0mencode\u001b[0m\u001b[0;34m(\u001b[0m\u001b[0mbimask\u001b[0m\u001b[0;34m)\u001b[0m\u001b[0;34m:\u001b[0m\u001b[0;34m\u001b[0m\u001b[0;34m\u001b[0m\u001b[0m\n\u001b[0;32m---> 81\u001b[0;31m     \u001b[0;32mif\u001b[0m \u001b[0mlen\u001b[0m\u001b[0;34m(\u001b[0m\u001b[0mbimask\u001b[0m\u001b[0;34m.\u001b[0m\u001b[0mshape\u001b[0m\u001b[0;34m)\u001b[0m \u001b[0;34m==\u001b[0m \u001b[0;36m3\u001b[0m\u001b[0;34m:\u001b[0m\u001b[0;34m\u001b[0m\u001b[0;34m\u001b[0m\u001b[0m\n\u001b[0m\u001b[1;32m     82\u001b[0m         \u001b[0;32mreturn\u001b[0m \u001b[0m_mask\u001b[0m\u001b[0;34m.\u001b[0m\u001b[0mencode\u001b[0m\u001b[0;34m(\u001b[0m\u001b[0mbimask\u001b[0m\u001b[0;34m)\u001b[0m\u001b[0;34m\u001b[0m\u001b[0;34m\u001b[0m\u001b[0m\n\u001b[1;32m     83\u001b[0m     \u001b[0;32melif\u001b[0m \u001b[0mlen\u001b[0m\u001b[0;34m(\u001b[0m\u001b[0mbimask\u001b[0m\u001b[0;34m.\u001b[0m\u001b[0mshape\u001b[0m\u001b[0;34m)\u001b[0m \u001b[0;34m==\u001b[0m \u001b[0;36m2\u001b[0m\u001b[0;34m:\u001b[0m\u001b[0;34m\u001b[0m\u001b[0;34m\u001b[0m\u001b[0m\n",
      "\u001b[0;31mAttributeError\u001b[0m: 'str' object has no attribute 'shape'"
     ]
    }
   ],
   "source": [
    "json1_ann = json1['annotations']\n",
    "mask = json1_ann[0]['segmentation']['counts']\n",
    "shape = json1_ann[0]['segmentation']['size']\n",
    "print(json1_ann[0])\n",
    "print(mask)\n",
    "print(encode(mask))\n",
    "\n",
    "# json2['annotations'] = new_ann\n",
    "    # print(\"target : \" + nv[clssInd[cat_id]])"
   ]
  },
  {
   "cell_type": "code",
   "execution_count": 9,
   "metadata": {},
   "outputs": [
    {
     "output_type": "stream",
     "name": "stdout",
     "text": [
      "{'id': 1, 'width': 1442, 'height': 995, 'file_name': '5_0_14.jpg', 'license': None, 'flickr_url': '', 'coco_url': None, 'date_captured': '2020-12-29T05:36:54Z'}\n"
     ]
    },
    {
     "output_type": "execute_result",
     "data": {
      "text/plain": [
       "{'id': 101,\n",
       " 'width': 1442,\n",
       " 'height': 995,\n",
       " 'file_name': '5_0_14.jpg',\n",
       " 'license': None,\n",
       " 'flickr_url': '',\n",
       " 'coco_url': None,\n",
       " 'date_captured': '2020-12-29T05:36:54Z'}"
      ]
     },
     "metadata": {},
     "execution_count": 9
    }
   ],
   "source": [
    "json2_img = json2['images']\n",
    "print(json2_img[0])\n",
    "for img in json2_img:\n",
    "    img['id'] += 100\n",
    "json2_img[0]"
   ]
  },
  {
   "cell_type": "code",
   "execution_count": 10,
   "metadata": {},
   "outputs": [],
   "source": [
    "cat_list2\n",
    "new_cat_list2 = []\n",
    "for cat in cat_list2:\n",
    "    cat['id'] = clssCnv[cat['name']]\n",
    "    new_cat_list2.append(cat)\n",
    "json2['categories'] = new_cat_list2"
   ]
  },
  {
   "cell_type": "code",
   "execution_count": 11,
   "metadata": {},
   "outputs": [
    {
     "output_type": "execute_result",
     "data": {
      "text/plain": [
       "{'id': 1,\n",
       " 'width': 1442,\n",
       " 'height': 995,\n",
       " 'file_name': '0_0_14.jpg',\n",
       " 'license': None,\n",
       " 'flickr_url': '',\n",
       " 'coco_url': None,\n",
       " 'date_captured': '2020-12-30T00:09:24Z'}"
      ]
     },
     "metadata": {},
     "execution_count": 11
    }
   ],
   "source": [
    "merged = json1.copy()\n",
    "merged['images'][0]"
   ]
  },
  {
   "cell_type": "code",
   "execution_count": 12,
   "metadata": {},
   "outputs": [],
   "source": [
    "merged['annotations'] += json2['annotations']\n",
    "merged['images'] += json2['images']"
   ]
  },
  {
   "cell_type": "code",
   "execution_count": 13,
   "metadata": {},
   "outputs": [],
   "source": [
    "with open('merged.json', 'w') as outfile:\n",
    "    json.dump(merged, outfile)"
   ]
  },
  {
   "cell_type": "code",
   "execution_count": 14,
   "metadata": {},
   "outputs": [
    {
     "output_type": "execute_result",
     "data": {
      "text/plain": [
       "7764"
      ]
     },
     "metadata": {},
     "execution_count": 14
    }
   ],
   "source": [
    "len(merged['annotations'])"
   ]
  },
  {
   "cell_type": "code",
   "execution_count": null,
   "metadata": {},
   "outputs": [],
   "source": []
  }
 ]
}